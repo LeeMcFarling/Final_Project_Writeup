{
 "cells": [
  {
   "cell_type": "markdown",
   "id": "2907acbd",
   "metadata": {},
   "source": [
    "# Project Final Report\n",
    "\n",
    "### Due: Midnight on April 27 (2-hour grace period) — 50 points  \n",
    "\n",
    "### No late submissions will be accepted.\n",
    "\n",
    "\n"
   ]
  },
  {
   "cell_type": "code",
   "execution_count": 13,
   "id": "a1c4bd56",
   "metadata": {},
   "outputs": [],
   "source": [
    "# ===================================\n",
    "# Useful Imports: Add more as needed\n",
    "# ===================================\n",
    "\n",
    "# Standard Libraries\n",
    "import os\n",
    "import time\n",
    "import math\n",
    "import io\n",
    "import zipfile\n",
    "import requests\n",
    "from urllib.parse import urlparse\n",
    "from itertools import chain, combinations\n",
    "\n",
    "# Data Science Libraries\n",
    "import numpy as np\n",
    "import pandas as pd\n",
    "import seaborn as sns\n",
    "\n",
    "# Visualization\n",
    "import matplotlib.pyplot as plt\n",
    "import matplotlib.patches as patches\n",
    "import matplotlib.ticker as mticker  # Optional: Format y-axis labels as dollars\n",
    "import seaborn as sns\n",
    "import matplotlib.pyplot as plt\n",
    "\n",
    "\n",
    "\n",
    "# Scikit-learn (Machine Learning)\n",
    "from sklearn.model_selection import (\n",
    "    train_test_split, \n",
    "    cross_val_score, \n",
    "    GridSearchCV, \n",
    "    RandomizedSearchCV, \n",
    "    RepeatedKFold\n",
    ")\n",
    "from sklearn.preprocessing import StandardScaler, OrdinalEncoder\n",
    "from sklearn.impute import SimpleImputer\n",
    "from sklearn.metrics import mean_squared_error, root_mean_squared_error\n",
    "from sklearn.feature_selection import SequentialFeatureSelector, f_regression, SelectKBest\n",
    "from sklearn.linear_model import LinearRegression, Ridge, Lasso, ElasticNet\n",
    "from sklearn.ensemble import BaggingRegressor, RandomForestRegressor, GradientBoostingRegressor\n",
    "from sklearn.tree import DecisionTreeRegressor\n",
    "from sklearn.model_selection import cross_val_predict, KFold\n",
    "# Progress Tracking\n",
    "\n",
    "from tqdm import tqdm\n",
    "\n",
    "# =============================\n",
    "# Global Variables\n",
    "# =============================\n",
    "random_state = 42\n",
    "# combined_results = pd.DataFrame()     # this is read in after so commenting out here for Stability\n",
    "# =============================\n",
    "# Utility Functions\n",
    "# =============================\n",
    "\n",
    "# Format y-axis labels as dollars with commas (optional)\n",
    "def dollar_format(x, pos):\n",
    "    return f'${x:,.2f}'\n",
    "\n",
    "# Convert seconds to HH:MM:SS format\n",
    "def format_hms(seconds):\n",
    "    return time.strftime(\"%H:%M:%S\", time.gmtime(seconds))\n",
    "\n",
    "\n",
    "# Format Time for GridSearchCV\n",
    "def format_time(seconds):\n",
    "    \n",
    "    # Convert seconds to hours, minutes, and remaining seconds\n",
    "    hours = int(seconds // 3600)\n",
    "    minutes = int((seconds % 3600) // 60)\n",
    "    remaining_seconds = seconds % 60\n",
    "    \n",
    "    # Return a formatted string    \n",
    "    if hours == 0 and minutes == 0:\n",
    "        return f\"{seconds:.4f}s\"\n",
    "    elif hours == 0:\n",
    "        return f\"{minutes}m {remaining_seconds:.2f}s\"\n",
    "\n",
    "    return f\"{hours}h {minutes}m {remaining_seconds:.2f}s\"\n",
    "\n",
    "\n"
   ]
  },
  {
   "cell_type": "markdown",
   "id": "fa926f96",
   "metadata": {},
   "source": [
    "## Overview\n",
    "\n",
    "Your final submission consists of **three components**:"
   ]
  },
  {
   "cell_type": "markdown",
   "id": "706edba9-eb08-4f57-bcc5-a1bb7024f068",
   "metadata": {},
   "source": [
    "\n",
    "\n",
    "---\n",
    "\n",
    "### 1. Final Report Notebook [40 pts]\n",
    "\n",
    "Complete all sections of this notebook to document your final decisions, results, and broader context.\n",
    "\n",
    "- **Part A**: Select the single best model from your Milestone 2 experiments. Now that you’ve finalized your model, revisit your decisions from Milestones 1 and 2. Are there any steps you would change—such as cleaning, feature engineering, or model evaluation—given what you now know?\n",
    "\n",
    "- **Part B**: Write a technical report following standard conventions, for example:\n",
    "  - [CMU guide to structure](https://www.stat.cmu.edu/~brian/701/notes/paper-structure.pdf)\n",
    "  - [Data science report example](https://www.projectpro.io/article/data-science-project-report/620)\n",
    "  - The Checklist given in this week's Blackboard Lesson (essentially the same as in HOML).\n",
    "    \n",
    "  Your audience here is technically literate but unfamiliar with your work—like your manager or other data scientists. Be clear, precise, and include both code (for illustration), charts/plots/illustrations, and explanation of what you discovered and your reasoning process. \n",
    "\n",
    "The idea here is that Part A would be a repository of the most important code, for further work to come, and Part B is\n",
    "the technical report which summarizes your project for the data science group at your company. Do NOT assume that readers of Part B are intimately familiar with Part A; provide code for illustration as needed, but not to run.\n",
    "\n",
    "Submit this notebook as a group via your team leader’s Gradescope account.\n",
    "\n",
    "---\n",
    "\n",
    "### 2. PowerPoint Presentation [10 pts]\n",
    "\n",
    "Create a 10–15 minute presentation designed for a general audience (e.g., sales or marketing team).\n",
    "\n",
    "- Prepare 8–12 slides, following the general outline of the sections of Part B. \n",
    "- Focus on storytelling, visuals (plots and illustrations), and clear, simplified language. No code!\n",
    "- Use any presentation tool you like, but upload a PDF version.\n",
    "- List all team members on the first slide.\n",
    "\n",
    "Submit as a group via your team leader’s Gradescope account.\n",
    "\n",
    "---\n",
    "\n",
    "### 3. Individual Assessment\n",
    "\n",
    "Each team member must complete the Individual Assessment Form (same as in Milestone 1), sign it, and upload it via their own Gradescope account.\n",
    "\n",
    "---\n",
    "\n",
    "## Submission Checklist\n",
    "\n",
    "-  Final Report Notebook — Team leader submission\n",
    "-  PDF Slides — Team leader submission\n",
    "-  Individual Assessment Form — Each member submits their own\n"
   ]
  },
  {
   "cell_type": "markdown",
   "id": "ab60953e",
   "metadata": {},
   "source": [
    "____"
   ]
  },
  {
   "cell_type": "markdown",
   "id": "75db81c2",
   "metadata": {},
   "source": [
    "____"
   ]
  },
  {
   "cell_type": "markdown",
   "id": "99ee15ea-7cf4-4d57-b83a-18f186f0d204",
   "metadata": {},
   "source": [
    "## Part A: Final Model and Design Reassessment [10 pts]\n",
    "\n",
    "In this part, you will finalize your best-performing model and revisit earlier decisions to determine if any should be revised in light of your complete modeling workflow. You’ll also consolidate and present the key code used to run your model on the preprocessed dataset, with thoughtful documentation of your reasoning.\n",
    "\n",
    "**Requirements:**\n",
    "\n",
    "- Reconsider **at least one decision from Milestone 1** (e.g., preprocessing, feature engineering, or encoding). Explain whether you would keep or revise that decision now that you know which model performs best. Justify your reasoning.\n",
    "  \n",
    "- Reconsider **at least one decision from Milestone 2** (e.g., model evaluation, cross-validation strategy, or feature selection). Again, explain whether you would keep or revise your original decision, and why.\n",
    "\n",
    "- Below, include all code necessary to **run your final model** on the processed dataset. This section should be a clean, readable summary of the most important steps from Milestones 1 and 2, adapted as needed to fit your final model choice and your reconsiderations as just described. \n",
    "\n",
    "- Use Markdown cells and inline comments to explain the structure of the code clearly but concisely. The goal is to make your reasoning and process easy to follow for instructors and reviewers.\n",
    "\n",
    "> Remember: You are not required to change your earlier choices, but you *are* required to reflect on them and justify your final decisions.\n"
   ]
  },
  {
   "cell_type": "markdown",
   "id": "8dbcc093",
   "metadata": {},
   "source": [
    "### **Import Dataset(s)**\n",
    "\n",
    "Providing all dataframe checkpoints throughout Milestone 2 for team members to reference or use in functions as part of the report preparation."
   ]
  },
  {
   "cell_type": "code",
   "execution_count": 14,
   "id": "52be0244-e449-4322-a036-d188724901aa",
   "metadata": {},
   "outputs": [],
   "source": [
    "# Original DataFrame from part 1\n",
    "milestone_1_df = pd.read_csv('Datasets_Results/milestone_1_df.csv')\n",
    "\n",
    "# Baseline DF used for Baseline Modeling\n",
    "baseline_df = pd.read_csv('Datasets_Results/baseline_df.csv')\n",
    "\n",
    "# Final Feature Engineering DFs\n",
    "feature_engineering_df_no_log = pd.read_csv('Datasets_Results/feature_engineering_df_no_log.csv')\n",
    "feature_engineering_df_log = pd.read_csv('Datasets_Results/feature_engineering_df_log.csv')\n",
    "\n",
    "# Copy of Feature Engineering DFs for input of Feature Selection\n",
    "selected_features_df = pd.read_csv('Datasets_Results/selected_features_df.csv')\n",
    "\n",
    "# Copy of Feature Engineering DFs used for Fine Tuning \n",
    "fine_tuning_df = pd.read_csv('Datasets_Results/fine_tuning_df.csv')\n",
    "\n",
    "# =============\n",
    "#  Results DFs \n",
    "# =============\n",
    "\n",
    "# Combined Results Global DF that Subsequent Results are appended to \n",
    "combined_results_df = pd.read_csv('Datasets_Results/combined_results.csv')\n",
    "\n",
    "# Ranked Results Filtering for Part 4 Plotting (filtering out anything that happened during fine-tuning)\n",
    "ranked_results = pd.read_csv('Datasets_Results/ranked_results.csv')\n",
    "ranked_results1 = ranked_results[['model', 'mean_CV_RMSE', 'std_CV_RMSE', 'training_RMSE', 'run_comment']].sort_values(by='mean_CV_RMSE', ascending=True)\n",
    "ranked_results_pre_part4 = ranked_results1[~ranked_results1['run_comment'].str.contains('Fine-')]\n",
    "\n",
    "# Copy of Combined Results with Extra Columns for Plotting in Write up\n",
    "combined_results_part4 = pd.read_csv('Datasets_Results/combined_results_part4.csv')"
   ]
  },
  {
   "cell_type": "markdown",
   "id": "539e802a",
   "metadata": {},
   "source": [
    "### **Prelude: Functions Definitions**"
   ]
  },
  {
   "cell_type": "markdown",
   "id": "cfe4b744",
   "metadata": {},
   "source": [
    "#### **Profile Dataset**\n",
    "\n",
    "This function was used to quickly profile the number of null and unique values within a dataset throughout our Milestone 1 and Milestone 2 notebooks. We’ve imported it here to verify that the relevant datasets were saved correctly, and because we specifically reference its results in our subsequent report."
   ]
  },
  {
   "cell_type": "code",
   "execution_count": 15,
   "id": "2ea6e52a",
   "metadata": {},
   "outputs": [],
   "source": [
    "# ========================================================================================\n",
    "# This is meant to consolidate the 'show_null_counts_features' function from before with \n",
    "# another with 'value' and 'unique' counts later on in this analysis. \n",
    "# ========================================================================================\n",
    "\n",
    "def profile_dataset(df):\n",
    "    # Identify feature types\n",
    "    feature_types = df.dtypes.apply(lambda x: 'Numeric' if np.issubdtype(x, np.number) else 'Categorical')\n",
    "\n",
    "    # Build a summary DataFrame\n",
    "    summary = pd.DataFrame({\n",
    "        'Feature': df.columns,\n",
    "        'Type': feature_types.values,\n",
    "        'Null Values': df.isnull().sum().values,\n",
    "        'Null %': (df.isnull().mean() * 100).round(2).values,\n",
    "        'Count (Non-Null)': df.count().values,\n",
    "        'Unique Values': df.nunique().values\n",
    "    })\n",
    "\n",
    "    # Sort Values in Summary by % of null values\n",
    "    summary = summary.sort_values(by='Null %', ascending=False).reset_index(drop=True)\n",
    "\n",
    "    # Add dataset shape info above the table\n",
    "    print(f\"This dataset contain {df.shape[0]} rows\")\n",
    "    print(f\"This dataset contain {df.shape[1]} columns\")\n",
    "\n",
    "    # Display the summary\n",
    "    return summary"
   ]
  },
  {
   "cell_type": "markdown",
   "id": "91bd19f7",
   "metadata": {},
   "source": [
    "#### **Train Test Split**\n",
    "\n",
    "Function to train test split the data provided a dataframe and a target column"
   ]
  },
  {
   "cell_type": "code",
   "execution_count": 16,
   "id": "b8f96424",
   "metadata": {},
   "outputs": [],
   "source": [
    "def train_test_split_data(df, target_col):\n",
    "    X = df.drop(columns=target_col)\n",
    "    y = df[target_col]\n",
    "    \n",
    "    X_train, X_test, y_train, y_test = train_test_split(X, y, test_size=0.2, random_state=42)\n",
    "    \n",
    "    return X_train, X_test, y_train, y_test "
   ]
  },
  {
   "cell_type": "markdown",
   "id": "e0334243",
   "metadata": {},
   "source": [
    "#### **Standardization Function**\n",
    "\n",
    "This function applies the StandardScaler from scikit-learn to numerical features, excluding categorical columns and those that have been one-hot encoded (i.e., columns with two or fewer unique values). It is called within functions like run_model() to ensure that datasets are properly scaled when required."
   ]
  },
  {
   "cell_type": "code",
   "execution_count": 17,
   "id": "3ec2e9fd",
   "metadata": {},
   "outputs": [],
   "source": [
    "def standardize_features_train_and_test(X_train, X_test=None, target_column=None, debug=False, return_scaler=False):\n",
    "    \"\"\"\n",
    "    Standardize numerical features in either a single DataFrame or in X_train/X_test split.\n",
    "\n",
    "    Parameters:\n",
    "    - X_train: DataFrame to scale (or the only one, for legacy use)\n",
    "    - X_test: Optional second DataFrame (for train/test split)\n",
    "    - target_column: Column to exclude from scaling\n",
    "    - debug: Print details\n",
    "    - return_scaler: Whether to return the fitted scaler\n",
    "\n",
    "    Returns:\n",
    "    - Scaled X_train (or single df), optional X_test, optional scaler\n",
    "    \"\"\"\n",
    "    legacy_mode = X_test is None  # True if using legacy single-DF mode\n",
    "\n",
    "    # In legacy mode, treat input as single DataFrame\n",
    "    if legacy_mode:\n",
    "        df_scaled = X_train.copy()\n",
    "        numeric_cols = df_scaled.select_dtypes(include='number').columns.tolist()\n",
    "\n",
    "        if target_column in numeric_cols:\n",
    "            numeric_cols.remove(target_column)\n",
    "\n",
    "        numeric_cols_to_scale = [col for col in numeric_cols if df_scaled[col].nunique(dropna=True) > 2]\n",
    "\n",
    "        if debug:\n",
    "            print(\"Scaling columns:\", numeric_cols_to_scale)\n",
    "\n",
    "        scaler = StandardScaler()\n",
    "        df_scaled[numeric_cols_to_scale] = scaler.fit_transform(df_scaled[numeric_cols_to_scale])\n",
    "\n",
    "        if return_scaler:\n",
    "            return df_scaled, None, scaler\n",
    "        return df_scaled  # legacy-compatible\n",
    "\n",
    "    # --- New version for X_train/X_test split ---\n",
    "    X_train_scaled = X_train.copy()\n",
    "    X_test_scaled = X_test.copy() if X_test is not None else None\n",
    "\n",
    "    numeric_cols = X_train.select_dtypes(include='number').columns.tolist()\n",
    "    if target_column and target_column in numeric_cols:\n",
    "        numeric_cols.remove(target_column)\n",
    "\n",
    "    numeric_cols_to_scale = [col for col in numeric_cols if X_train[col].nunique(dropna=True) > 2]\n",
    "\n",
    "    if debug:\n",
    "        print(\"Numeric columns to scale:\", numeric_cols_to_scale)\n",
    "\n",
    "    scaler = StandardScaler()\n",
    "    X_train_scaled[numeric_cols_to_scale] = scaler.fit_transform(X_train[numeric_cols_to_scale])\n",
    "\n",
    "    if X_test_scaled is not None:\n",
    "        X_test_scaled = X_test_scaled[X_train_scaled.columns]\n",
    "        X_test_scaled[numeric_cols_to_scale] = scaler.transform(X_test_scaled[numeric_cols_to_scale])\n",
    "\n",
    "    if return_scaler and X_test is not None: \n",
    "        return X_train_scaled, X_test_scaled, scaler\n",
    "\n",
    "    if X_test is not None: \n",
    "        return X_train_scaled, X_test_scaled, None\n",
    "\n",
    "    # Always return 3 values (legacy call with just one dataset)\n",
    "    if return_scaler:\n",
    "        return X_train_scaled, None, scaler\n",
    "\n",
    "    return X_train_scaled, None, None\n"
   ]
  },
  {
   "cell_type": "markdown",
   "id": "7f9fcd10",
   "metadata": {},
   "source": [
    "#### **Another Standardization Function**\n",
    "Was utilized for manual Standardization outside of the run_model function. "
   ]
  },
  {
   "cell_type": "code",
   "execution_count": 18,
   "id": "ed777d7c",
   "metadata": {},
   "outputs": [],
   "source": [
    "# ===================================================\n",
    "# Standardize Numeric Features\n",
    "\n",
    "# This uses the global df_clean_numeric found \n",
    "# earlier which filters out 'id' and 'flag' variables\n",
    "# ===================================================\n",
    "\n",
    "def standardize_features(df, target_column=None, debug=False, return_scaler=False):\n",
    "    df_scaled = df.copy()\n",
    "    numeric_cols = df.select_dtypes(include=['number']).columns.tolist()\n",
    "\n",
    "    if target_column in numeric_cols:\n",
    "        numeric_cols.remove(target_column)\n",
    "\n",
    "    # Step 4: Further exclude binary (0/1) columns\n",
    "    numeric_cols_to_scale = [\n",
    "        col for col in numeric_cols\n",
    "        if df[col].nunique(dropna=True) > 2\n",
    "    ]\n",
    "\n",
    "    # DEBUG\n",
    "    if debug:    \n",
    "        print(\"Numeric columns before filtering:\", numeric_cols)\n",
    "        print(\"Numeric columns after filtering:\", numeric_cols_to_scale)    \n",
    "\n",
    "    scaler = StandardScaler()\n",
    "    df_scaled[numeric_cols_to_scale] = scaler.fit_transform(df_scaled[numeric_cols_to_scale])\n",
    "    \n",
    "    if return_scaler:\n",
    "        return df_scaled, scaler\n",
    "    \n",
    "    return df_scaled\n"
   ]
  },
  {
   "cell_type": "markdown",
   "id": "ab778ab0",
   "metadata": {},
   "source": [
    "#### **Run Model Function**\n",
    "\n",
    "This function served as a basis for running the models in each section of our report. It was modified from its original version in Module 3 materials and edited to include the following: \n",
    "\n",
    "- **concat_results:** A boolean parameter meant to append results to our global combined_results dataframe. We subsequently used this dataframe to store the results of each of the models throughout the course of the excersice. \n",
    "\n",
    "- **plot_pred:** A boolean parameter meant to plot the predictions of the trained model against their actual values in the training (or optional: Test set). This is meant to evaluate how the model is performing. \n",
    "\n",
    "- **target_is_logged:** Another boolean parameter meant to change the Cross Validation strategy in case the target variable was logged."
   ]
  },
  {
   "cell_type": "code",
   "execution_count": 19,
   "id": "d4d483e0",
   "metadata": {},
   "outputs": [],
   "source": [
    "# New version with test data and scaling:\n",
    "def run_model(\n",
    "    model,\n",
    "    X_train,\n",
    "    y_train,\n",
    "    X_test=None,\n",
    "    y_test=None,\n",
    "    n_repeats=5,\n",
    "    n_jobs=-1,\n",
    "    concat_results=False,\n",
    "    run_comment=None,\n",
    "    target_is_logged=False,\n",
    "    plot_pred=False,\n",
    "    return_scaler=False,\n",
    "    **model_params\n",
    "):\n",
    "    global combined_results\n",
    "\n",
    "    # Scale both training and test data\n",
    "    X_train_scaled, X_test_scaled, scaler = standardize_features_train_and_test(\n",
    "        X_train=X_train,\n",
    "        X_test=X_test,\n",
    "        target_column=None,\n",
    "        return_scaler=True\n",
    "    )\n",
    "\n",
    "    model_instance = model(**model_params) if isinstance(model, type) else model\n",
    "    model_name = model.__name__ if isinstance(model, type) else model.__class__.__name__\n",
    "\n",
    "    # --- Cross-validation & training ---\n",
    "    if target_is_logged:\n",
    "        kf = KFold(n_splits=5, shuffle=True, random_state=42)\n",
    "        rmse_scores = []\n",
    "\n",
    "        for train_idx, val_idx in kf.split(X_train_scaled):\n",
    "            X_tr = X_train_scaled.iloc[train_idx]\n",
    "            X_val = X_train_scaled.iloc[val_idx]\n",
    "            y_tr = y_train.iloc[train_idx]\n",
    "            y_val = y_train.iloc[val_idx]\n",
    "\n",
    "            model_instance.fit(X_tr, y_tr)\n",
    "            preds_log = model_instance.predict(X_val)\n",
    "\n",
    "            y_preds = np.expm1(preds_log)\n",
    "            y_true = np.expm1(y_val)\n",
    "\n",
    "            rmse_scores.append(root_mean_squared_error(y_true, y_preds))\n",
    "\n",
    "        mean_CV_RMSE = np.mean(rmse_scores)\n",
    "        std_CV_RMSE = np.std(rmse_scores)\n",
    "\n",
    "        # Fit final model on full training set\n",
    "        model_instance.fit(X_train_scaled, y_train)\n",
    "        y_train_pred = np.expm1(model_instance.predict(X_train_scaled))\n",
    "        y_train_true = np.expm1(y_train)\n",
    "        training_RMSE = root_mean_squared_error(y_train_true, y_train_pred)\n",
    "\n",
    "        # Evaluate test set\n",
    "        test_RMSE = None\n",
    "        if X_test_scaled is not None and y_test is not None:\n",
    "            y_test_pred = np.expm1(model_instance.predict(X_test_scaled))\n",
    "            y_test_true = np.expm1(y_test)\n",
    "            test_RMSE = root_mean_squared_error(y_test_true, y_test_pred)\n",
    "\n",
    "        # Ensure test prediction is safe for plotting\n",
    "        if X_test_scaled is None or y_test is None:\n",
    "            y_test_pred = None\n",
    "\n",
    "        if plot_pred:\n",
    "            plot_predictions(\n",
    "                y_train_true=y_train_true,\n",
    "                y_train_pred=y_train_pred,\n",
    "                y_test_true=y_test_true,\n",
    "                y_test_pred=y_test_pred,\n",
    "                title=model_name + \" Train vs Test\"\n",
    "            )\n",
    "\n",
    "    else:\n",
    "        # Not log-transformed\n",
    "        neg_mse_scores = cross_val_score(\n",
    "            model_instance,\n",
    "            X_train_scaled,\n",
    "            y_train,\n",
    "            scoring='neg_mean_squared_error',\n",
    "            cv=RepeatedKFold(n_splits=5, n_repeats=n_repeats, random_state=42),\n",
    "            n_jobs=n_jobs\n",
    "        )\n",
    "        rmse_scores = np.sqrt(-neg_mse_scores)\n",
    "        mean_CV_RMSE = np.mean(rmse_scores)\n",
    "        std_CV_RMSE = np.std(rmse_scores)\n",
    "\n",
    "        model_instance.fit(X_train_scaled, y_train)\n",
    "        y_train_pred = model_instance.predict(X_train_scaled)\n",
    "        training_RMSE = root_mean_squared_error(y_train, y_train_pred)\n",
    "\n",
    "        test_RMSE = None\n",
    "        if X_test_scaled is not None and y_test is not None:\n",
    "            y_test_pred = model_instance.predict(X_test_scaled)\n",
    "            test_RMSE = root_mean_squared_error(y_test, y_test_pred)\n",
    "\n",
    "        # Ensure test prediction is safe for plotting\n",
    "        if X_test_scaled is None or y_test is None:\n",
    "            y_test_pred = None\n",
    "            \n",
    "        if plot_pred:\n",
    "            plot_predictions(\n",
    "                y_train_true=y_train,\n",
    "                y_train_pred=y_train_pred,\n",
    "                y_test_true=y_test,\n",
    "                y_test_pred=y_test_pred,\n",
    "                title=model_name + \" Train vs Test\"\n",
    "            )\n",
    "\n",
    "    # --- Collect results ---\n",
    "    results_df = pd.DataFrame([{\n",
    "        \"model\": model_name,\n",
    "        \"model_params\": model_instance.get_params(),\n",
    "        \"mean_CV_RMSE\": mean_CV_RMSE,\n",
    "        \"std_CV_RMSE\": std_CV_RMSE,\n",
    "        \"training_RMSE\": training_RMSE,\n",
    "        \"test_RMSE\": test_RMSE,\n",
    "        \"run_comment\": run_comment\n",
    "    }])\n",
    "\n",
    "    if concat_results:\n",
    "        try:\n",
    "            combined_results = pd.concat([combined_results, results_df], ignore_index=True)\n",
    "        except NameError:\n",
    "            combined_results = results_df\n",
    "\n",
    "    return (results_df, scaler) if return_scaler else results_df\n"
   ]
  },
  {
   "cell_type": "markdown",
   "id": "4ca41784",
   "metadata": {},
   "source": [
    "#### **Plot RMSE Comparison**\n",
    "\n",
    "This was used throughout the second milestone to plot the Training RMSE, Cross Validation RMSE (and optionally the test RMSE). "
   ]
  },
  {
   "cell_type": "code",
   "execution_count": 20,
   "id": "b2e22c1c",
   "metadata": {},
   "outputs": [],
   "source": [
    "def plot_rmse_comparison(df, run_comment_keyword=\"Base Model Parameters\", title=\"Training vs CV RMSE (Stacked)\", figsize=(12, 6)): \n",
    "    # Filter and sort by mean CV RMSE\n",
    "    filtered_df = df[df['run_comment'].str.contains(run_comment_keyword, case=False, na=False)]\n",
    "    filtered_df = filtered_df.sort_values(by='mean_CV_RMSE', ascending=True)\n",
    "\n",
    "    if filtered_df.empty:\n",
    "        print(f\"No data found with run_comment containing '{run_comment_keyword}'\")\n",
    "        return\n",
    "\n",
    "    # Determine which RMSE columns exist\n",
    "    rmse_columns = ['training_RMSE', 'mean_CV_RMSE']\n",
    "    if 'test_RMSE' in filtered_df.columns and filtered_df['test_RMSE'].notna().any():\n",
    "        rmse_columns.append('test_RMSE')\n",
    "\n",
    "    # Melt into long form for seaborn\n",
    "    stacked_df = filtered_df[['model'] + rmse_columns].melt(\n",
    "        id_vars='model',\n",
    "        var_name='RMSE_Type',\n",
    "        value_name='RMSE_Value'\n",
    "    )\n",
    "\n",
    "    # Plot setup\n",
    "    custom_params = {\"axes.spines.right\": False, \"axes.spines.top\": False}\n",
    "    sns.set_theme(style=\"ticks\", rc=custom_params)\n",
    "    plt.figure(figsize=figsize)\n",
    "\n",
    "    # Bar plot\n",
    "    barplot = sns.barplot(\n",
    "        data=stacked_df,\n",
    "        x='model',\n",
    "        y='RMSE_Value',\n",
    "        hue='RMSE_Type'\n",
    "    )\n",
    "\n",
    "    # Add labels to bars\n",
    "    for bar in barplot.patches:\n",
    "        height = bar.get_height()\n",
    "        if not pd.isna(height):\n",
    "            x = bar.get_x() + bar.get_width() / 2\n",
    "            label = f\"${height:,.0f}\"\n",
    "            barplot.text(x, height + 3000, label, ha='center', va='bottom', fontsize=8)\n",
    "\n",
    "    # Format y-axis\n",
    "    barplot.yaxis.set_major_formatter(mticker.FuncFormatter(dollar_format))\n",
    "\n",
    "    # Final layout\n",
    "    plt.title(f\"{title}: {run_comment_keyword}\", fontsize=14, fontweight='bold')\n",
    "    plt.ylabel(\"RMSE\", fontsize=12)\n",
    "    plt.xlabel(\"Model\", fontsize=12)\n",
    "    plt.xticks(rotation=45)\n",
    "    plt.legend(title=\"\")\n",
    "    plt.tight_layout()\n",
    "    plt.show()\n"
   ]
  },
  {
   "cell_type": "markdown",
   "id": "baaceedd",
   "metadata": {},
   "source": [
    "#### **Plot Predictons**\n",
    "This function is called within run_model and is used to generate predicted vs. actual scatter plots when run_model is executed with plot_pred=True. These plots served as a visual indicator throughout the exercise to assess model performance and detect potential overfitting. "
   ]
  },
  {
   "cell_type": "code",
   "execution_count": 21,
   "id": "6fff50e6",
   "metadata": {},
   "outputs": [],
   "source": [
    "from matplotlib.ticker import FuncFormatter\n",
    "\n",
    "def plot_predictions(\n",
    "    y_train_true=None, y_train_pred=None,\n",
    "    y_test_true=None, y_test_pred=None,\n",
    "    title=\"Model Performance\",\n",
    "    limit_outliers=True,\n",
    "    figsize=(10, 5)\n",
    "):\n",
    "    plots = []\n",
    "\n",
    "    # Helper: Clean and trim outliers\n",
    "    def prepare_data(y_true, y_pred):\n",
    "        y_true = pd.Series(y_true).reset_index(drop=True)\n",
    "        y_pred = pd.Series(y_pred).reset_index(drop=True)\n",
    "        if limit_outliers:\n",
    "            threshold = y_true.quantile(0.99)\n",
    "            mask = y_true < threshold\n",
    "            y_true = y_true[mask]\n",
    "            y_pred = y_pred[mask]\n",
    "        abs_errors = np.abs(y_true - y_pred)\n",
    "        return y_true, y_pred, abs_errors\n",
    "\n",
    "    # Dollar formatter\n",
    "    dollar_fmt = FuncFormatter(lambda x, _: f\"${x/1e6:.1f}M\")\n",
    "\n",
    "    # Collect valid plots\n",
    "    if y_train_true is not None and y_train_pred is not None:\n",
    "        ytt, ytp, ae = prepare_data(y_train_true, y_train_pred)\n",
    "        plots.append((\"Train\", ytt, ytp, ae))\n",
    "\n",
    "    if y_test_true is not None and y_test_pred is not None:\n",
    "        ytt, ytp, ae = prepare_data(y_test_true, y_test_pred)\n",
    "        plots.append((\"Test\", ytt, ytp, ae))\n",
    "\n",
    "    if not plots:\n",
    "        print(\"⚠️ No valid prediction data provided for plotting.\")\n",
    "        return\n",
    "\n",
    "    # Adjust size for single plot\n",
    "    if len(plots) == 1:\n",
    "        figsize = (figsize[0] // 2, figsize[1])\n",
    "\n",
    "    # Create subplots\n",
    "    fig, axes = plt.subplots(1, len(plots), figsize=figsize)\n",
    "    if len(plots) == 1:\n",
    "        axes = [axes]\n",
    "\n",
    "    # Plot each subplot\n",
    "    for i, (ax, (label, y_true, y_pred, abs_errors)) in enumerate(zip(axes, plots)):\n",
    "        scatter = sns.scatterplot(\n",
    "            x=y_true,\n",
    "            y=y_pred,\n",
    "            hue=abs_errors,\n",
    "            palette=\"coolwarm\",\n",
    "            ax=ax,\n",
    "            s=30,\n",
    "            alpha=0.6,\n",
    "            edgecolor=None\n",
    "        )\n",
    "        ax.plot(\n",
    "            [y_true.min(), y_true.max()],\n",
    "            [y_true.min(), y_true.max()],\n",
    "            'r--'\n",
    "        )\n",
    "        ax.set_title(f\"{label} Predictions\")\n",
    "        ax.set_xlabel(\"Actual Values\")\n",
    "        ax.set_ylabel(\"Predicted Values\")\n",
    "        ax.xaxis.set_major_formatter(dollar_fmt)\n",
    "        ax.yaxis.set_major_formatter(dollar_fmt)\n",
    "\n",
    "        # Show legend only for last subplot if multiple\n",
    "        if len(plots) == 1 or i == len(plots) - 1:\n",
    "            ax.legend(\n",
    "                title=\"Absolute Error\",\n",
    "                loc='upper center',\n",
    "                bbox_to_anchor=(0.5, -0.25),\n",
    "                ncol=3,\n",
    "                frameon=False\n",
    "            )\n",
    "        else:\n",
    "            ax.get_legend().remove()\n",
    "\n",
    "    plt.suptitle(title, fontsize=14)\n",
    "    plt.tight_layout(rect=[0, 0, 1, 0.95])\n",
    "    plt.show()\n"
   ]
  },
  {
   "cell_type": "markdown",
   "id": "6750d56f",
   "metadata": {},
   "source": [
    "____"
   ]
  },
  {
   "cell_type": "markdown",
   "id": "75636fbf",
   "metadata": {},
   "source": [
    "### **Best Model Run**"
   ]
  },
  {
   "cell_type": "markdown",
   "id": "8ad8d08b",
   "metadata": {},
   "source": [
    "After milestone 2, our Cross Validation and train set results were as follows:"
   ]
  },
  {
   "cell_type": "markdown",
   "id": "a75612a3",
   "metadata": {},
   "source": [
    "![Pre_4_Results](./Figures/Final_Results_Figures/All_Models_no_test.png)"
   ]
  },
  {
   "cell_type": "markdown",
   "id": "2e0a10a7",
   "metadata": {},
   "source": [
    "Quick Blurb on our model decision: "
   ]
  },
  {
   "cell_type": "code",
   "execution_count": null,
   "id": "51fac42b",
   "metadata": {},
   "outputs": [],
   "source": []
  },
  {
   "cell_type": "markdown",
   "id": "5283a7e9",
   "metadata": {},
   "source": [
    "#### **Gradient Boosted Trees**"
   ]
  },
  {
   "cell_type": "markdown",
   "id": "069bdd72",
   "metadata": {},
   "source": [
    "**Train Test Split and Standardization:**\n"
   ]
  },
  {
   "cell_type": "code",
   "execution_count": 22,
   "id": "b9a310ee",
   "metadata": {},
   "outputs": [],
   "source": [
    "# Unlogged DataSet (Standardized in Part 2))\n",
    "feature_engineering_X_train_no_log, feature_engineering_X_test_no_log, feature_engineering_y_train_no_log, feature_engineering_y_test_no_log = train_test_split_data(feature_engineering_df_no_log, 'taxvaluedollarcnt')\n",
    "scaled_feature_engineering_x_train_no_log = standardize_features(feature_engineering_X_train_no_log)"
   ]
  },
  {
   "cell_type": "markdown",
   "id": "c1294918",
   "metadata": {},
   "source": [
    "**Gradient Boosted Best Parameters**"
   ]
  },
  {
   "cell_type": "code",
   "execution_count": null,
   "id": "79d3c28f",
   "metadata": {},
   "outputs": [],
   "source": [
    "# fixed variable name\n",
    "#TODO: check actual variable name and parameters\n",
    "GBT_best_params = {\n",
    "    'alpha': 0.9,\n",
    "    'ccp_alpha': 0.0,\n",
    "    'criterion': 'friedman_mse',\n",
    "    'init': None, 'learning_rate': 0.09, 'loss': 'squared_error', 'max_depth': 5, 'max_features': 12, 'max_leaf_nodes': None, 'min_impurity_decrease': 0.0, 'min_samples_leaf': 1, 'min_samples_split': 2, 'min_weight_fraction_leaf': 0.0, 'n_estimators': 194, 'n_iter_no_change': None, 'random_state': None, 'subsample': 1.0, 'tol': 0.0001, 'validation_fraction': 0.1, 'verbose': 0, 'warm_start': False\n",
    "}"
   ]
  },
  {
   "cell_type": "markdown",
   "id": "18880d9f",
   "metadata": {},
   "source": [
    "**Best Model Run**"
   ]
  },
  {
   "cell_type": "code",
   "execution_count": 28,
   "id": "3f70539a",
   "metadata": {},
   "outputs": [
    {
     "data": {
      "image/png": "[encoded data removed]",
      "text/plain": [
       "<Figure size 1000x500 with 2 Axes>"
      ]
     },
     "metadata": {},
     "output_type": "display_data"
    },
    {
     "data": {
      "text/html": [
       "<div>\n",
       "<style scoped>\n",
       "    .dataframe tbody tr th:only-of-type {\n",
       "        vertical-align: middle;\n",
       "    }\n",
       "\n",
       "    .dataframe tbody tr th {\n",
       "        vertical-align: top;\n",
       "    }\n",
       "\n",
       "    .dataframe thead th {\n",
       "        text-align: right;\n",
       "    }\n",
       "</style>\n",
       "<table border=\"1\" class=\"dataframe\">\n",
       "  <thead>\n",
       "    <tr style=\"text-align: right;\">\n",
       "      <th></th>\n",
       "      <th>model</th>\n",
       "      <th>model_params</th>\n",
       "      <th>mean_CV_RMSE</th>\n",
       "      <th>std_CV_RMSE</th>\n",
       "      <th>training_RMSE</th>\n",
       "      <th>test_RMSE</th>\n",
       "      <th>run_comment</th>\n",
       "    </tr>\n",
       "  </thead>\n",
       "  <tbody>\n",
       "    <tr>\n",
       "      <th>0</th>\n",
       "      <td>GradientBoostingRegressor</td>\n",
       "      <td>{'alpha': 0.9, 'ccp_alpha': 0.0, 'criterion': ...</td>\n",
       "      <td>401468.466483</td>\n",
       "      <td>35835.788497</td>\n",
       "      <td>318655.948359</td>\n",
       "      <td>363102.883236</td>\n",
       "      <td>Best Model Final Run: 'GBT Fine-Tuning No Log ...</td>\n",
       "    </tr>\n",
       "  </tbody>\n",
       "</table>\n",
       "</div>"
      ],
      "text/plain": [
       "                       model  \\\n",
       "0  GradientBoostingRegressor   \n",
       "\n",
       "                                        model_params   mean_CV_RMSE  \\\n",
       "0  {'alpha': 0.9, 'ccp_alpha': 0.0, 'criterion': ...  401468.466483   \n",
       "\n",
       "    std_CV_RMSE  training_RMSE      test_RMSE  \\\n",
       "0  35835.788497  318655.948359  363102.883236   \n",
       "\n",
       "                                         run_comment  \n",
       "0  Best Model Final Run: 'GBT Fine-Tuning No Log ...  "
      ]
     },
     "execution_count": 28,
     "metadata": {},
     "output_type": "execute_result"
    }
   ],
   "source": [
    "run_model(\n",
    "          model=GradientBoostingRegressor,\n",
    "          X_train=feature_engineering_X_train_no_log,\n",
    "          y_train=feature_engineering_y_train_no_log,\n",
    "          X_test=feature_engineering_X_test_no_log,\n",
    "          y_test=feature_engineering_y_test_no_log,\n",
    "          n_repeats=5,\n",
    "          n_jobs=-1, \n",
    "          concat_results=False,\n",
    "          run_comment=\"Best Model Final Run: 'GBT Fine-Tuning No Log Final'\", \n",
    "          target_is_logged=False,\n",
    "          plot_pred=True, \n",
    "          **GBT_best_params\n",
    "          )"
   ]
  },
  {
   "cell_type": "markdown",
   "id": "fead2f5b",
   "metadata": {},
   "source": [
    "____"
   ]
  },
  {
   "cell_type": "markdown",
   "id": "0c82235f",
   "metadata": {},
   "source": [
    "#### **Random Forest Model**"
   ]
  },
  {
   "cell_type": "markdown",
   "id": "3c13dbbb",
   "metadata": {},
   "source": [
    "**Train Test Split and Standardization:**\n"
   ]
  },
  {
   "cell_type": "code",
   "execution_count": 29,
   "id": "00e856e9",
   "metadata": {},
   "outputs": [],
   "source": [
    "# Unlogged DataSet (Standardized in Part 2))\n",
    "feature_engineering_X_train_no_log, feature_engineering_X_test_no_log, feature_engineering_y_train_no_log, feature_engineering_y_test_no_log = train_test_split_data(feature_engineering_df_no_log, 'taxvaluedollarcnt')\n",
    "scaled_feature_engineering_x_train_no_log = standardize_features(feature_engineering_X_train_no_log)"
   ]
  },
  {
   "cell_type": "markdown",
   "id": "a109cd83",
   "metadata": {},
   "source": [
    "**Random Forest Best Parameters**"
   ]
  },
  {
   "cell_type": "code",
   "execution_count": 30,
   "id": "59ddd55f",
   "metadata": {},
   "outputs": [],
   "source": [
    "RF_Best_Params = {\n",
    " 'max_depth': 21, \n",
    " 'max_features': 9, \n",
    " 'n_estimators': 98,\n",
    " 'bootstrap' : True\n",
    " }"
   ]
  },
  {
   "cell_type": "markdown",
   "id": "0b0d48a6",
   "metadata": {},
   "source": [
    "**Random Forest Final Model Run**"
   ]
  },
  {
   "cell_type": "code",
   "execution_count": null,
   "id": "d464c645",
   "metadata": {},
   "outputs": [],
   "source": [
    "run_model(\n",
    "          model=RandomForestRegressor,\n",
    "          X_train=feature_engineering_X_train_no_log,\n",
    "          y_train=feature_engineering_y_train_no_log,\n",
    "          X_test=feature_engineering_X_test_no_log,\n",
    "          y_test= feature_engineering_y_test_no_log,\n",
    "          n_repeats=5,\n",
    "          n_jobs=-1, \n",
    "          concat_results=False,\n",
    "          run_comment=\"Random Forest Fine-Tuning No Log\", \n",
    "          target_is_logged=False,\n",
    "          plot_pred=True, \n",
    "          **RF_Best_Params\n",
    "          )"
   ]
  },
  {
   "cell_type": "markdown",
   "id": "683e6eb7",
   "metadata": {},
   "source": [
    "___"
   ]
  },
  {
   "cell_type": "markdown",
   "id": "a89dda7e",
   "metadata": {},
   "source": [
    "### **Part A: What We Would Have Done Differently**\n",
    "\n",
    "**Milestone 1:** \n",
    "For Milestone 1, we opted to forgo more extensive feature tuning because the target variable, taxvaluedollarcnt, was highly skewed. After applying a log transformation, the target approximately resembled a normal distribution. At the time, we believed this would significantly improve model performance by making the data more suitable for prediction. However, in practice, this was not the case. In all of our tests during Milestone 2, models trained on the logged target variable consistently performed worse than those trained on the original scale. Additionally, this approach introduced unnecessary complexity during cross-validation, as predictions had to be transformed back from log space before calculating error metrics.\n",
    "\n",
    "Overall, if we were to continue this project, re-evaluating the decision to log-transform the target variable would be one of our first priorities, as this assumption did not yield the expected improvements.\n",
    "\n",
    "**Milestone 2:**\n",
    "For Milestone 2, all models that underwent hyperparameter tuning did so using the Full Feature Set from Part 2.2, without a log transformation applied to the target variable. Once the hyperparameters were tuned on this dataset, each model was then evaluated—using those same tuned hyperparameters—while being trained on three different datasets:\n",
    "\n",
    "- The Part 2.2 dataset (no log transformation on the target variable)\n",
    "- The Part 2 dataset with a log transformation applied to the target variable\n",
    "- The ‘best’ feature selection from Part 3\n",
    "\n",
    "This approach was primarily chosen for efficiency, as tuning hyperparameters separately for each dataset would have tripled the workload (resulting in 9 tuning rounds instead of 3). In the future, to maximize model performance, we should re-tune hyperparameters specifically for each dataset. This would be advisable if achieving optimal performance were the primary objective, and especially worthwhile if the shortlist of top-performing models is further narrowed after this round of analysis."
   ]
  },
  {
   "cell_type": "markdown",
   "id": "e9ff9376",
   "metadata": {},
   "source": [
    "____"
   ]
  },
  {
   "cell_type": "markdown",
   "id": "dce548ba-c1ce-4a66-8885-9f7e40b1c404",
   "metadata": {},
   "source": [
    "## Part B: Final Data Science Project Report Assignment [30 pts]\n",
    "\n",
    "This final report is the culmination of your semester-long Data Science project, building upon the exploratory analyses and modeling milestones you've already completed. Your report should clearly communicate your findings, analysis approach, and conclusions to a technical audience. The following structure and guidelines, informed by best practices, will help you prepare a professional and comprehensive document.\n",
    "\n",
    "### Required Sections\n",
    "\n",
    "Your report must include the following sections:\n"
   ]
  },
  {
   "cell_type": "markdown",
   "id": "7347f37a",
   "metadata": {},
   "source": [
    "___"
   ]
  },
  {
   "cell_type": "markdown",
   "id": "a01d6069-cf27-4312-8e4b-8c27fa6cf9d0",
   "metadata": {},
   "source": [
    "#### **1. Executive Summary (Abstract) [2 pts]**\n",
    "- **Brief overview of the entire project (150–200 words)**\n",
    "- **Clearly state the objective, approach, and key findings**"
   ]
  },
  {
   "cell_type": "markdown",
   "id": "638c0517",
   "metadata": {},
   "source": [
    "**Executive Summary:** The goal of this project is to develop a predictive model using Zillow’s housing dataset to estimate the tax-assessed value of residential properties (taxvaluedollarcnt). By leveraging various home features—such as square footage, location, and year built—the model aims to build on the success of Zillow’s widely-used Zestimate tool by expanding its capabilities to include predictions of a home’s tax-assessed value. This would offer homeowners greater transparency into how their property taxes—one of the most significant ongoing expenses after purchasing a home—are determined.\n",
    "\n",
    "\n",
    "Our approach is to apply regression techniques to identify key factors influencing property valuations, build a model to predict the taxvaluedollarcnt of different properties based on the data provided by Zillow, and to minimize prediction errors, as evaluated by the use of metrics like Root Mean Squared Error (RMSE). \n",
    "\n",
    "Our key findings were that while ensemble methods Gradient Boosted Trees and Random Forests yielded RMSEs that were improvements over baseline estimates, models still contained an average error rate north of 300,000 dollars. Due to the trend of models performing significantly worse on homes with taxvalluedollarcnt over 2,000,000 dollars, we suspect that this 'average' is doing significantly worse due to the presence of extreme outliers in the data (some close to 49,000,000 dollars). "
   ]
  },
  {
   "cell_type": "markdown",
   "id": "1a131f26",
   "metadata": {},
   "source": [
    "___"
   ]
  },
  {
   "cell_type": "markdown",
   "id": "5edd854f-857f-41a2-983a-845c99a87153",
   "metadata": {},
   "source": [
    "#### **2. Introduction [2 pts]**\n",
    "- **Clearly introduce the topic and context of your project**\n",
    "- **Describe the problem you are addressing (the problem statement)**\n",
    "- **Clearly state the objectives and goals of your analysis**\n",
    "\n",
    "Note: You may imaginatively consider this project as taking place in a real estate company with a small data science group in-house, and write your introduction from this point of view (don't worry about verisimilitude to an actual company!).  "
   ]
  },
  {
   "cell_type": "markdown",
   "id": "bfcf823c-453c-40ba-89f0-07826b9adf7a",
   "metadata": {},
   "source": [
    "**Introduction:** Released 15 years ago, Zillow’s **Zestimate** feature revolutionized transparency in the real estate sector by giving home buyers instant access to accurate, market-based property valuations -- allowing consumers to  easily compare listing prices to market estimates with just a click. \n",
    "\n",
    "But while this market value is critical during the initial real estate transaction, there is another metric that impacts the finances of homeowners long after the initial purchase, and that is the **tax assessed value**. \n",
    "\n",
    "Yet despite property taxes represent one of the largest ongoing costs for homeowners across the nation, many homeowners have little visibility into how this value is determined, or whether their value is fair when compared to similar properties. \n",
    "\n",
    "As part of our in-house data science initiative, we aim to address this gap by leveraging machine learning to develop a model that accurately predicts a property's tax assessed value. In this, our main objectives were clear: \n",
    "\n",
    "- Identify the most important features when assessing a home's tax value. \n",
    "\n",
    "- Develop a machine learning model to accurately predict a home's tax assessed value from zillow's database. \n",
    " \n",
    "\n"
   ]
  },
  {
   "cell_type": "markdown",
   "id": "41c1eed7",
   "metadata": {},
   "source": [
    "___"
   ]
  },
  {
   "cell_type": "markdown",
   "id": "a6394185-1992-469c-b475-05bd473327b1",
   "metadata": {},
   "source": [
    "#### **3. Data Description [2 pts]**\n",
    "- **Describe the source of your dataset (described in Milestone 1)**\n",
    "- **Clearly state the characteristics of your data (size, types of features, missing values, target, etc.)**"
   ]
  },
  {
   "cell_type": "markdown",
   "id": "d762ca9d",
   "metadata": {},
   "source": [
    "## 1. Dataset Description\n",
    "\n",
    "The dataset was sourced from Zillow’s 2017 Kaggle competition *Zestimate Prediction* (Zillow Prize).  \n",
    "It was provided already reduced to **77,613 rows** and **55 columns** for this project.  \n",
    "Unlike the original competition, our **target variable** is the **assessed tax value** of properties (`taxvaluedollarcnt`), not the sale price estimate.\n",
    "\n",
    "- **Features**:\n",
    "  - A mix of **numerical** and **categorical** features.\n",
    "  - Several fields are **ID-like numeric references** (e.g., `propertylandusetypeid`, `airconditioningtypeid`) pointing to external master data.\n",
    "  - To improve clarity and interpretation, mappings were retrieved from the **published Zillow Kaggle source** and used to create dictionaries for meaningful encoding.\n",
    "\n",
    "- **Key Numerical Features**:\n",
    "  - `bedroomcnt`, `bathroomcnt`, `calculatedfinishedsquarefeet`, `lotsizesquarefeet`\n",
    "  - `structuretaxvaluedollarcnt`, `landtaxvaluedollarcnt`, `taxamount`\n",
    "  - `yearbuilt`, `roomcnt`, `unitcnt`\n",
    "\n",
    "- **Categorical Features**:\n",
    "  - Explicit categorical fields: `hashottuborspa`, `propertycountylandusecode`, `propertyzoningdesc`, `fireplaceflag`, `taxdelinquencyflag`\n",
    "  - Encoded categorical fields: `HeatingOrSystemTypeID`, `PropertyLandUseTypeID`, `StoryTypeID`, `AirConditioningTypeID`, `ArchitecturalStyleTypeID`, `TypeConstructionTypeID`, `BuildingClassTypeID`\n",
    "\n",
    "- **Target Variable**:\n",
    "  - `taxvaluedollarcnt` — continuous numerical feature representing the assessed tax value.\n",
    "\n",
    "**Overall**, the dataset contains a diverse mix of structural, financial, and geographic attributes relevant to property valuation.\n"
   ]
  },
  {
   "cell_type": "markdown",
   "id": "5026bb67",
   "metadata": {},
   "source": [
    "____"
   ]
  },
  {
   "cell_type": "markdown",
   "id": "db7d906a-bd9a-42f8-8eb4-7bba1b1b108a",
   "metadata": {},
   "source": [
    "#### 4. Methodology (What you did, and why)  [12 pts]\n",
    "\n",
    "**Focus this section entirely on the steps you took and your reasoning behind them. Emphasize the process and decision-making, not the results themselves**\n",
    "\n",
    "\n",
    "**A. Clearly outline your data cleaning and preprocessing steps**\n",
    "  - Describe what issues you encountered in the raw data and how you addressed them.\n",
    "  - Mention any key decisions (e.g., removing samples with too many missing values).\n",
    "  - What worked and what didn't work?\n",
    "\n",
    "**B. Describe your feature engineering approach**\n",
    "  - Explain any transformations, combinations, or derived features.\n",
    "  - Discuss why certain features were chosen or created, even if they were later discarded.\n",
    "  - What worked and what didn't work?\n",
    "\n",
    "**C. Describe your analytical framework**\n",
    "  - Use of validation curves to see the effect of various hyperparameter choices, and\n",
    "  - Choice of RMSE as primary error metric\n",
    "\n",
    "**D. Detail your model selection process**\n",
    "  - Outline the models you experimented with and why.\n",
    "  - Discuss how you evaluated generalization (e.g., cross-validation, shape and relationships of plots).\n",
    "  - Mention how you tuned hyperparameters or selected the final model.\n",
    "\n"
   ]
  },
  {
   "cell_type": "markdown",
   "id": "e498366d",
   "metadata": {},
   "source": [
    "____"
   ]
  },
  {
   "cell_type": "markdown",
   "id": "276de7c1-71ab-4bca-b1d4-e78979cbd0b2",
   "metadata": {},
   "source": [
    "**4.A. Data Cleaning and Preprocessing**\n",
    "\n",
    "Several issues were identified in the raw dataset and addressed through a series of cleaning and preprocessing steps:\n",
    "\n",
    "- **Handling Missing Values**:\n",
    "  - Columns with more than **60% missing values** were dropped (e.g., `basementsqft`, `yardbuildingsqft26`).\n",
    "  - For some categorical fields (e.g., `fireplaceflag`), missing values were interpreted as 'absence' and processed into binary flags instead of being discarded.\n",
    "\n",
    "- **Duplicate Records**:\n",
    "  - **199 rows** with duplicate `parcelid` values were identified and removed to ensure one unique entry per property.\n",
    "\n",
    "- **Outliers**:\n",
    "  - Extreme outliers in the target variable (`taxvaluedollarcnt`) were detected using the IQR method and removed to avoid skewing the models.\n",
    "\n",
    "- **Dropped Irrelevant Features**:\n",
    "  - Some fields were deemed uninterpretable or irrelevant for the scope of the project and were dropped:\n",
    "    - `parcelid` (unique identifier, not predictive)\n",
    "    - `latitude` and `longitude` (overly granular location data)\n",
    "    - `regionidcity`, `regionidzip`, `regionidneighborhood` (geographic codes not aligned with modeling focus)\n",
    "    - `assessmentyear` (only one unique value)\n",
    "    - `rawcensustractandblock` and `censustractandblock` (sparse and unprocessed census identifiers)\n",
    "\n",
    "- **Removed Redundant Features**:\n",
    "  - Certain fields were flagged as redundant (capturing overlapping information) and dropped:\n",
    "    - Example: `finishedsquarefeet12` (total living area) and `finishedsquarefeet13` (perimeter living area)\n",
    "    - Example: `finishedfloor1squarefeet` and `finishedsquarefeet50` (both describing first-floor area)\n",
    "  - Many of these redundant fields also had **>90% missing values**, reinforcing the decision to drop them.\n",
    "\n",
    "---\n",
    "\n",
    "**Key Decisions**\n",
    "\n",
    "- Dropping highly sparse columns (>60% missing) and redundant features helped simplify the dataset and prevent overfitting.\n",
    "- Removing duplicate entries based on `parcelid` ensured data integrity.\n",
    "- Outlier removal in the target variable stabilized modeling results.\n",
    "\n",
    "**What Worked Well**\n",
    "\n",
    "- Removing extreme outliers and dropping irrelevant features significantly improved model training stability.\n",
    "- Using external mappings for ID-like fields (e.g., land use type) added valuable interpretability for categorical features.\n",
    "\n",
    "**What Didn't Work**\n",
    "\n",
    "- Some features initially thought to be useful (e.g., latitude and longitude) were too granular and had to be dropped.\n",
    "- Log transformation of the target variable (`taxvaluedollarcnt`) initially considered for skewness reduction did not improve model performance and was abandoned.\n",
    "\n",
    "---\n",
    "\n"
   ]
  },
  {
   "cell_type": "code",
   "execution_count": null,
   "id": "404579a9",
   "metadata": {},
   "outputs": [],
   "source": [
    "# Box plots from part 1? or something interesting"
   ]
  },
  {
   "cell_type": "code",
   "execution_count": null,
   "id": "a3f187b9",
   "metadata": {},
   "outputs": [],
   "source": [
    "# Missing Value Counts"
   ]
  },
  {
   "cell_type": "markdown",
   "id": "caaa16ff",
   "metadata": {},
   "source": [
    "From there, we immediately flagged certain features for removal due to having more than 90% null or missing values. However, instead of dropping some variables outright, we agreed as a team to flag specific fields for potential consolidation. For example, 'fireplacecnt' and 'fireplaceflag' both of which were incomplete on their own and displayed instanced where one of them was null and the other was not, could be combined into a single binary flag, such as fireplaceflag_new. Although each of these fields appeared incomplete individually, we believed they could still provide meaningful information contributing to the overall tax value of the home, and therefore be useful for modeling in some capacity.\n",
    "\n",
    "Dropped Features with ≥ 90% Missing Values:\n",
    "\n",
    "- buildingclasstypeid (99.98% missing, numeric)\n",
    "- finishedsquarefeet6 (99.5% missing, numeric)\n",
    "- finishedsquarefeet13 (99.95% missing, numeric)\n",
    "- finishedsquarefeet15 (96.1% missing, numeric)\n",
    "- finishedsquarefeet50 (92.22% missing, numeric)\n",
    "- storytypeid (99.94% missing, numeric)\n",
    "- architecturalstyletypeid (99.73% missing, numeric)\n",
    "- typeconstructiontypeid (99.71% missing, numeric)\n",
    "- decktypeid (99.21% missing, numeric)\n",
    "- taxdelinquencyflag (96.26% missing, categorical)\n",
    "- taxdelinquencyyear (96.26% missing, numeric)\n",
    "- finishedfloor1squarefeet (92.22% missing, numeric)\n",
    "\n",
    "Dropped Features with ≥ 60% Missing Values (Deemed Not Useful for Regression):\n",
    "- threequarterbathnbr (86.98% missing, numeric)\n",
    "- numberofstories (77.32% missing, numeric)\n",
    "- regionidneighborhood (60.09% missing, numeric)\n",
    "\n",
    "We removed features with extremely high percentages of missing data because their lack of completeness compromised their reliability, making them unsuitable for predictive modeling. Columns with ≥90% missing values—such as various square footage measures and identifiers like buildingclasstypeid—lacked sufficient data to offer meaningful insights. Additionally, features with 60% or more missing values, like threequarterbathnbr and numberofstories, were excluded when they provided little value to our regression task. By eliminating these columns, we aimed to reduce noise and potential bias, ensuring that our models are trained on a more robust and complete dataset.\n"
   ]
  },
  {
   "cell_type": "code",
   "execution_count": null,
   "id": "75961c2b",
   "metadata": {},
   "outputs": [],
   "source": [
    "# potential display? \n",
    "\n",
    "#  Null threshold: 60.0%"
   ]
  },
  {
   "cell_type": "markdown",
   "id": "7f6db226",
   "metadata": {},
   "source": [
    "Next, we looked into records that had null values for the target variable, we figured in this case, that no matter what these records were useless for modeling so they were dropped. "
   ]
  },
  {
   "cell_type": "code",
   "execution_count": null,
   "id": "36d2c18d",
   "metadata": {},
   "outputs": [],
   "source": [
    "# Number of samples before dropping null values in the target: 77,613\n",
    "# Number of samples after dropping null values in the target: 77,578\n",
    "# Number of samples before dropping too many null values in the target: 77,578\n",
    "# Number of samples before dropping too many null values in the target: 77,274"
   ]
  },
  {
   "cell_type": "markdown",
   "id": "95115dcf",
   "metadata": {},
   "source": [
    "**4.B. Feature Engineering**"
   ]
  },
  {
   "cell_type": "markdown",
   "id": "8d3e0b01",
   "metadata": {},
   "source": [
    "\n",
    "During the feature engineering phase, several transformations, combinations, and new features were developed to improve model performance and better expose the underlying structure of the data.\n",
    "\n",
    "---\n",
    "\n",
    "**Transformations and Derived Features**\n",
    "\n",
    "- **Property Size Transformations**:\n",
    "  - Created **log-transformed** versions of skewed features such as `calculatedfinishedsquarefeet` to normalize distributions and reduce the impact of extreme values.\n",
    "  - Introduced flags for outlier detection in property size by creating binary indicators for properties above the 95th percentile in `calculatedfinishedsquarefeet`.\n",
    "\n",
    "- **Age-Related Features**:\n",
    "  - Calculated **property age** based on `yearbuilt`.\n",
    "  - Created log transformations and decade groupings for the year built, such as:\n",
    "    - `propertyage_log`\n",
    "    - `yearbuilt_decade_log`\n",
    "  \n",
    "- **Ratio Features**:\n",
    "  - Created new ratio-based features that captured relationships between important property attributes, including:\n",
    "    - `bedroomcnt_by_bathroomcnt` (bedrooms per bathroom)\n",
    "    - `hasgarage_flag_by_bedroomcnt` (garage presence adjusted by bedroom count)\n",
    "\n",
    "- **Binary Feature Flags**:\n",
    "  - Converted categorical presence/absence fields into binary flags, such as:\n",
    "    - `hasgarage_flag`\n",
    "    - `hasairconditioning_flag`\n",
    "    - `storageshed_flag`\n",
    "  - These flags provided clearer signals for tree-based and linear models.\n",
    "\n",
    "- **Interaction Features**:\n",
    "  - Created interaction terms that combined multiple features to capture more complex relationships, such as:\n",
    "    - property size × property age interactions\n",
    "\n",
    "---\n",
    "\n",
    "**Reasoning Behind Feature Choices**\n",
    "\n",
    "- **Log Transformations** were chosen to deal with heavy skewness in numerical features and to stabilize variance.\n",
    "- **Age and decade groupings** helped capture differences between older and newer properties in a non-linear way, improving model flexibility.\n",
    "- **Ratio features** provided additional interpretability and allowed the model to learn relationships between related attributes (e.g., houses with many bedrooms but few bathrooms).\n",
    "- **Binary flags** simplified categorical interpretation and reduced complexity for models sensitive to sparse encoding (especially linear models).\n",
    "\n",
    "Even features that were later discarded (e.g., certain interaction terms) were initially created because exploratory analysis suggested possible predictive power.\n",
    "\n",
    "---\n",
    "\n",
    "**What Worked Well**\n",
    "\n",
    "- The **log-transformed property size** significantly improved the performance of both linear and tree-based models.\n",
    "- **Binary flags** helped tree-based models like Random Forests and Gradient Boosting Trees by adding important, easy-to-split features.\n",
    "- **Age-based transformations** (like `yearbuilt_decade_log`) provided clear signals that improved the modeling of older versus newer homes.\n",
    "\n",
    "**What Didn’t Work**\n",
    "\n",
    "- **Log-transforming the target variable (`taxvaluedollarcnt`)** did not improve model performance and was ultimately abandoned.\n",
    "- Some complex **interaction terms** and highly engineered ratio features showed little gain in model performance and sometimes increased overfitting, particularly in tree-based models.\n",
    "- Highly granular transformations (e.g., creating dozens of binary flags from rare categories) increased dimensionality without a consistent benefit.\n",
    "\n",
    "---\n",
    "\n",
    "**Summary**\n",
    "\n",
    "Overall, the feature engineering approach focused on reducing skewness, enhancing interpretability, and capturing important interactions between key property characteristics.  \n",
    "The engineered features, especially the binary flags, age groupings, and property size transformations, made meaningful contributions to improving model robustness and accuracy.\n"
   ]
  },
  {
   "cell_type": "code",
   "execution_count": null,
   "id": "98ac13a5",
   "metadata": {},
   "outputs": [],
   "source": [
    "# plot from Part 3\n"
   ]
  },
  {
   "cell_type": "markdown",
   "id": "8e277966",
   "metadata": {},
   "source": [
    "**4.C. Describe your Analytical Framework**\n",
    "  - Use of validation curves to see the effect of various hyperparameter choices, and\n",
    "  - Choice of RMSE as primary error metric"
   ]
  },
  {
   "cell_type": "markdown",
   "id": "c09bc56d",
   "metadata": {},
   "source": [
    "Before proceeding further, we want to clarify that Root Mean Squared Error (RMSE) was used as the primary evaluation metric throughout this analysis. This choice was driven by one key consideration: RMSE is expressed in the same units as the target variable. This makes it an intuitive and meaningful measure of model performance for predicting our target, tax assessed value, in this context -- allowing us to say: 'our predictions are off by 'x' amount on average.'\n",
    "\n",
    "Additionally, given that this model is intended to be a client-facing feature, accuracy becomes even more critical. Clients would likely be dissatisfied if our predictions of their home’s tax assessed value deviate significantly from the actual value. In this context, the difference between predicted and actual values is effectively captured by RMSE. As such, RMSE represents the key source of error we aim to minimize, and it serves as the primary benchmark by which our model’s performance will be evaluated once deployed in production.\n",
    "\n"
   ]
  },
  {
   "cell_type": "markdown",
   "id": "38cbf573",
   "metadata": {},
   "source": [
    "Going into hyperparameter tuning, our top five performing MEAN CV RMSE's were as follows: "
   ]
  },
  {
   "cell_type": "code",
   "execution_count": null,
   "id": "f0c7fa4f",
   "metadata": {},
   "outputs": [
    {
     "data": {
      "text/html": [
       "<div>\n",
       "<style scoped>\n",
       "    .dataframe tbody tr th:only-of-type {\n",
       "        vertical-align: middle;\n",
       "    }\n",
       "\n",
       "    .dataframe tbody tr th {\n",
       "        vertical-align: top;\n",
       "    }\n",
       "\n",
       "    .dataframe thead th {\n",
       "        text-align: right;\n",
       "    }\n",
       "</style>\n",
       "<table border=\"1\" class=\"dataframe\">\n",
       "  <thead>\n",
       "    <tr style=\"text-align: right;\">\n",
       "      <th></th>\n",
       "      <th>model</th>\n",
       "      <th>mean_CV_RMSE</th>\n",
       "      <th>std_CV_RMSE</th>\n",
       "      <th>training_RMSE</th>\n",
       "      <th>run_comment</th>\n",
       "    </tr>\n",
       "  </thead>\n",
       "  <tbody>\n",
       "    <tr>\n",
       "      <th>0</th>\n",
       "      <td>GradientBoostingRegressor</td>\n",
       "      <td>407971.165349</td>\n",
       "      <td>36461.433675</td>\n",
       "      <td>365875.465125</td>\n",
       "      <td>Part 2.2 No target log transformation</td>\n",
       "    </tr>\n",
       "    <tr>\n",
       "      <th>1</th>\n",
       "      <td>RandomForestRegressor</td>\n",
       "      <td>410872.953949</td>\n",
       "      <td>34683.618148</td>\n",
       "      <td>153147.700111</td>\n",
       "      <td>Part 2.2 No target log transformation</td>\n",
       "    </tr>\n",
       "    <tr>\n",
       "      <th>2</th>\n",
       "      <td>LinearRegression</td>\n",
       "      <td>411237.680017</td>\n",
       "      <td>37334.260560</td>\n",
       "      <td>411888.104579</td>\n",
       "      <td>Final CV with selected features #2</td>\n",
       "    </tr>\n",
       "    <tr>\n",
       "      <th>3</th>\n",
       "      <td>Ridge</td>\n",
       "      <td>411525.950273</td>\n",
       "      <td>37275.310043</td>\n",
       "      <td>412178.025168</td>\n",
       "      <td>Final CV with selected features #2</td>\n",
       "    </tr>\n",
       "    <tr>\n",
       "      <th>4</th>\n",
       "      <td>Lasso</td>\n",
       "      <td>411900.519368</td>\n",
       "      <td>37106.936802</td>\n",
       "      <td>412229.771396</td>\n",
       "      <td>Final CV with selected features #2</td>\n",
       "    </tr>\n",
       "  </tbody>\n",
       "</table>\n",
       "</div>"
      ],
      "text/plain": [
       "                       model   mean_CV_RMSE   std_CV_RMSE  training_RMSE  \\\n",
       "0  GradientBoostingRegressor  407971.165349  36461.433675  365875.465125   \n",
       "1      RandomForestRegressor  410872.953949  34683.618148  153147.700111   \n",
       "2           LinearRegression  411237.680017  37334.260560  411888.104579   \n",
       "3                      Ridge  411525.950273  37275.310043  412178.025168   \n",
       "4                      Lasso  411900.519368  37106.936802  412229.771396   \n",
       "\n",
       "                             run_comment  \n",
       "0  Part 2.2 No target log transformation  \n",
       "1  Part 2.2 No target log transformation  \n",
       "2     Final CV with selected features #2  \n",
       "3     Final CV with selected features #2  \n",
       "4     Final CV with selected features #2  "
      ]
     },
     "execution_count": 50,
     "metadata": {},
     "output_type": "execute_result"
    }
   ],
   "source": [
    "ranked_results_pre_part4.head(5)"
   ]
  },
  {
   "cell_type": "markdown",
   "id": "ca87b19e",
   "metadata": {},
   "source": [
    "As such our top performing models going into the hyper parameter tuning section of model development were: \n",
    "\n",
    "- Gradient boosted trees with features from Part 2.2 -- no log transformation / RMSE: 402,691\n",
    "- Random Forest Regression with featuers from Part 2.2 -- no log transformation / RMSE: 410,873\n",
    "- Linear Regression with Final Features from Part 3 / RMSE: 411,238"
   ]
  },
  {
   "cell_type": "markdown",
   "id": "914b109c",
   "metadata": {},
   "source": [
    "For each of these models, the most 'influential' feautres were determined for each using model documentation and Boston Univeristy materials on the issue. From there, parameter sweeps were set up to first test a broad range of possible values for hyperparameters, and results were plotted for the mean CV for each of the hyperparameters. \n",
    "\n",
    "From there, we used the plots in the first parameter sweeps to either: a) determine a second parameter sweep (if necessary) using curtailed ranges in order to zero in on the best possible range, or b) determine a final range to test for each hyperparameter using Gridsearch Cross Validation. The results are as follows: "
   ]
  },
  {
   "cell_type": "markdown",
   "id": "b07cf836",
   "metadata": {},
   "source": [
    "**Gradient Boosted Trees**"
   ]
  },
  {
   "cell_type": "markdown",
   "id": "1d1f674e",
   "metadata": {},
   "source": [
    "![GBT_1](./Figures/GBT1.png)"
   ]
  },
  {
   "cell_type": "markdown",
   "id": "e5c92b3a",
   "metadata": {},
   "source": [
    "Based on the results of the first parameter sweep, the following ranges were chosen: \n",
    "- A range of 0 to 0.3 for learning_rate to hone in on the initial optimal region.\n",
    "- A range of 0 to 10 for max_depth to focus on the first identified area of best performance.\n",
    "- A range of 0 to 20 for max_features to target the “elbow” of the curve, as performance appeared to plateau beyond this point.\n",
    "- A range of 0 to 150 for n_estimators to refine around the most promising values observed in the initial sweep."
   ]
  },
  {
   "cell_type": "markdown",
   "id": "f78e92e6",
   "metadata": {},
   "source": [
    "![GBT_2](./Figures/GBT2.png)"
   ]
  },
  {
   "cell_type": "markdown",
   "id": "92217aae",
   "metadata": {},
   "source": [
    "Based on the second parameter sweep, the following final ranges were chosen for the Grid Search Cross Validation: \n",
    "- n_estimators: 194 – 200\n",
    "    - (After reviewing standard deviation and performance across both sweeps, this range provided the best balance.)\n",
    "- max_depth: 4 – 6\n",
    "    - (Centered around the optimal value from the second sweep, allowing for variance.)\n",
    "- max_features: 12 – 20\n",
    "    - (Reflecting the best-performing values from the second sweep, with a margin for error.)\n",
    "- learning_rate: 0.09 – 0.14 (divided into 5 intervals)\n",
    "    - (Focused around the optimal value identified in the second sweep, with fine-tuning steps.)"
   ]
  },
  {
   "cell_type": "markdown",
   "id": "17b39f9b",
   "metadata": {},
   "source": [
    "**Grid Search Cross Validation Results**"
   ]
  },
  {
   "cell_type": "markdown",
   "id": "ec1bd93d",
   "metadata": {},
   "source": [
    "![GBT_GCV](./Figures/GBT_GCV.png)"
   ]
  },
  {
   "cell_type": "markdown",
   "id": "77940e79",
   "metadata": {},
   "source": [
    "The optimal hyperparameters were determined to be a learning_rate of 0.09, max_depth of 5, max_features set to 12, and n_estimators at 194. It’s important to note the scaled and standardized ranges used during tuning to achieve these values."
   ]
  },
  {
   "cell_type": "markdown",
   "id": "85cc0c01",
   "metadata": {},
   "source": [
    "#### **Random Forest Parameter Sweeps**"
   ]
  },
  {
   "cell_type": "markdown",
   "id": "0b40bbef",
   "metadata": {},
   "source": [
    "![RF1](./Figures/RF1.png)"
   ]
  },
  {
   "cell_type": "markdown",
   "id": "45fda1f0",
   "metadata": {},
   "source": [
    "**Random Forest: First Sweep Discussion:** After the first parameter sweep, the following ranges were selected for further refinement:\n",
    "\n",
    "n_estimators:\n",
    "- A second range of 1 to 100 was chosen after the initial sweep indicated a preference for a higher number of estimators, though performance had plateaued. This narrower range on the lower end allowed for greater granularity in evaluation and aimed to prevent potential overfitting.\n",
    "\n",
    "max_depth:\n",
    "- A range of 16 to 24 was selected to focus on the optimal value identified in the first sweep, balancing both performance and standard deviation.\n",
    "\n",
    "max_features:\n",
    "- Two ranges were chosen for the second sweep:\n",
    "\t- 1 to 10 to evaluate behavior at the lower end of the spectrum.\n",
    "\t- 35 to 45 to explore the best-performing range identified in the first sweep.\n",
    "\n",
    "bootstrap:\n",
    "- The first sweep clearly indicated that True was the preferred setting based on both performance and standard deviation. A second plot is included here for completeness and thorough documentation."
   ]
  },
  {
   "cell_type": "markdown",
   "id": "b8c729e7",
   "metadata": {},
   "source": [
    "![RF2](./Figures/RF2.png)"
   ]
  },
  {
   "cell_type": "markdown",
   "id": "76235086",
   "metadata": {},
   "source": [
    "**Random Forest Second Sweep Discussion:** Based on the results of the second sweep, the following ranges were chosen for the Grid Search CV: \n",
    "\n",
    "n_estimators:\n",
    "- 90 - 100 — This range was kept close to the default, as the model consistently favored higher estimator counts in both sweeps. We observed that if given a range up to 500, it would select 500; if given up to 1,000, it would select 1,000. Therefore, we opted to limit the range around the default for efficiency and to avoid unnecessary complexity.\n",
    "\n",
    "max_depth:\n",
    "- 20 - 25 — Although the top performer in the second sweep was 17, the performance gain was minimal and largely plateaued. However, a noticeable dip in standard deviation occurred around the 20 - 21 range, suggesting this as an optimal zone for balancing performance and stability. \n",
    "\n",
    "max_features:\n",
    "- 8 - 11 — Exploration of the lower half of the range in the second sweep revealed improved performance. As a result, this final range was selected to hone in on that area of higher efficiency.\n",
    "\n",
    "\n",
    "bootstrap:\n",
    "- Set to True moving forward, based on consistent performance advantages observed in both sweeps."
   ]
  },
  {
   "cell_type": "markdown",
   "id": "fbea50d6",
   "metadata": {},
   "source": [
    "**Grid Search Cross Validation results**"
   ]
  },
  {
   "cell_type": "markdown",
   "id": "8b5b3db5",
   "metadata": {},
   "source": [
    "![RF_GCV](./Figures/RF_GCV.png)"
   ]
  },
  {
   "cell_type": "markdown",
   "id": "df65317f",
   "metadata": {},
   "source": [
    "The optimal parameters for the Random Forest model were a max_depth of 21, max_features set to 8, and n_estimators at 97. It’s also important to note the scale of the output, which reflects the balance between model complexity and performance."
   ]
  },
  {
   "cell_type": "markdown",
   "id": "1f514022",
   "metadata": {},
   "source": [
    "#### **Linear Regression Parameter Sweep**"
   ]
  },
  {
   "cell_type": "markdown",
   "id": "6199d78f",
   "metadata": {},
   "source": [
    "![LG1](./Figures/Lg1.png)"
   ]
  },
  {
   "cell_type": "markdown",
   "id": "2505fdf4",
   "metadata": {},
   "source": [
    "For Linear Regression, there were only two hyperparameters to adjust:\n",
    "\n",
    "fit_intercept:\n",
    "\n",
    "- We opted to set this to True, as there was no meaningful performance improvement observed when excluding the intercept. Retaining the intercept aligns with standard practice unless there’s a strong justification to force the model through the origin.\n",
    "\n",
    "positive:\n",
    "\n",
    "- This was set to False, as it’s reasonable to expect that some features may have negative coefficients—not all variables will have a positive relationship with a home’s tax-assessed value. This decision was made despite slight relative performance gains when enforcing positivity. Additionally, the astronomically high Test RMSE indicated poor generalization, causing concerns about this model’s overall reliability."
   ]
  },
  {
   "cell_type": "markdown",
   "id": "fe937ebb",
   "metadata": {},
   "source": [
    "At this stage, we determined that running a GridSearchCV on the Linear Regression model was likely unnecessary due to its limited hyperparameter options and minimal performance gains. However, we proceeded with the grid search to maintain a rigorous analysis. "
   ]
  },
  {
   "cell_type": "markdown",
   "id": "267df4b5",
   "metadata": {},
   "source": [
    "![LG_GCV](./Figures/LG_GCV.png)"
   ]
  },
  {
   "cell_type": "markdown",
   "id": "550526a6",
   "metadata": {},
   "source": [
    "In this case, although setting fit_intercept = False yielded a slight improvement in performance, we opted for fit_intercept = True based on the considerations discussed earlier, as the marginal performance gains were not worth the potential risk to generalization. Once again, note the use of a scaled and standardized feature set in this context."
   ]
  },
  {
   "cell_type": "markdown",
   "id": "9a42884f",
   "metadata": {},
   "source": [
    "**4.D. Detail your model selection process**\n",
    "  - Outline the models you experimented with and why.\n",
    "  - Discuss how you evaluated generalization (e.g., cross-validation, shape and relationships of plots).\n",
    "  - Mention how you tuned hyperparameters or selected the final model."
   ]
  },
  {
   "cell_type": "markdown",
   "id": "ae2a3855",
   "metadata": {},
   "source": [
    "At the beginning of Part 2, we developed a function called run_model(), which was used throughout the project to consistently evaluate model performance across different stages. The output of run_model() included:\n",
    "\n",
    "- An updated global output DataFrame that recorded results each time the function was executed, allowing us to track progress across multiple tests.\n",
    "- An optional plot comparing actual vs. predicted values for each model, enhanced with a heatmap to visualize how closely points aligned with the ideal prediction line."
   ]
  },
  {
   "cell_type": "code",
   "execution_count": null,
   "id": "1eb18981",
   "metadata": {},
   "outputs": [
    {
     "data": {
      "text/html": [
       "<div>\n",
       "<style scoped>\n",
       "    .dataframe tbody tr th:only-of-type {\n",
       "        vertical-align: middle;\n",
       "    }\n",
       "\n",
       "    .dataframe tbody tr th {\n",
       "        vertical-align: top;\n",
       "    }\n",
       "\n",
       "    .dataframe thead th {\n",
       "        text-align: right;\n",
       "    }\n",
       "</style>\n",
       "<table border=\"1\" class=\"dataframe\">\n",
       "  <thead>\n",
       "    <tr style=\"text-align: right;\">\n",
       "      <th></th>\n",
       "      <th>model</th>\n",
       "      <th>model_params</th>\n",
       "      <th>mean_CV_RMSE</th>\n",
       "      <th>std_CV_RMSE</th>\n",
       "      <th>training_RMSE</th>\n",
       "      <th>test_RMSE</th>\n",
       "      <th>run_comment</th>\n",
       "    </tr>\n",
       "  </thead>\n",
       "  <tbody>\n",
       "    <tr>\n",
       "      <th>0</th>\n",
       "      <td>LinearRegression</td>\n",
       "      <td>{'copy_X': True, 'fit_intercept': True, 'n_job...</td>\n",
       "      <td>421290.928437</td>\n",
       "      <td>38648.948178</td>\n",
       "      <td>421920.456261</td>\n",
       "      <td>370623.866122</td>\n",
       "      <td>Base Model Parameters</td>\n",
       "    </tr>\n",
       "    <tr>\n",
       "      <th>1</th>\n",
       "      <td>Ridge</td>\n",
       "      <td>{'alpha': 1.0, 'copy_X': True, 'fit_intercept'...</td>\n",
       "      <td>421243.844493</td>\n",
       "      <td>38651.382512</td>\n",
       "      <td>421925.007683</td>\n",
       "      <td>370620.407195</td>\n",
       "      <td>Base Model Parameters</td>\n",
       "    </tr>\n",
       "    <tr>\n",
       "      <th>2</th>\n",
       "      <td>Lasso</td>\n",
       "      <td>{'alpha': 1.0, 'copy_X': True, 'fit_intercept'...</td>\n",
       "      <td>421286.726566</td>\n",
       "      <td>38648.585390</td>\n",
       "      <td>421920.731761</td>\n",
       "      <td>370616.096743</td>\n",
       "      <td>Base Model Parameters</td>\n",
       "    </tr>\n",
       "    <tr>\n",
       "      <th>3</th>\n",
       "      <td>DecisionTreeRegressor</td>\n",
       "      <td>{'ccp_alpha': 0.0, 'criterion': 'squared_error...</td>\n",
       "      <td>565763.310788</td>\n",
       "      <td>23262.481455</td>\n",
       "      <td>19987.231868</td>\n",
       "      <td>534376.427277</td>\n",
       "      <td>Base Model Parameters</td>\n",
       "    </tr>\n",
       "    <tr>\n",
       "      <th>4</th>\n",
       "      <td>BaggingRegressor</td>\n",
       "      <td>{'bootstrap': True, 'bootstrap_features': Fals...</td>\n",
       "      <td>437113.410057</td>\n",
       "      <td>31388.608740</td>\n",
       "      <td>183658.920531</td>\n",
       "      <td>404772.831184</td>\n",
       "      <td>Base Model Parameters</td>\n",
       "    </tr>\n",
       "    <tr>\n",
       "      <th>5</th>\n",
       "      <td>RandomForestRegressor</td>\n",
       "      <td>{'bootstrap': True, 'ccp_alpha': 0.0, 'criteri...</td>\n",
       "      <td>422464.256360</td>\n",
       "      <td>32148.055755</td>\n",
       "      <td>157307.646717</td>\n",
       "      <td>383765.955426</td>\n",
       "      <td>Base Model Parameters</td>\n",
       "    </tr>\n",
       "    <tr>\n",
       "      <th>6</th>\n",
       "      <td>GradientBoostingRegressor</td>\n",
       "      <td>{'alpha': 0.9, 'ccp_alpha': 0.0, 'criterion': ...</td>\n",
       "      <td>413826.783109</td>\n",
       "      <td>34872.625063</td>\n",
       "      <td>376620.459032</td>\n",
       "      <td>384864.541745</td>\n",
       "      <td>Base Model Parameters</td>\n",
       "    </tr>\n",
       "  </tbody>\n",
       "</table>\n",
       "</div>"
      ],
      "text/plain": [
       "                       model  \\\n",
       "0           LinearRegression   \n",
       "1                      Ridge   \n",
       "2                      Lasso   \n",
       "3      DecisionTreeRegressor   \n",
       "4           BaggingRegressor   \n",
       "5      RandomForestRegressor   \n",
       "6  GradientBoostingRegressor   \n",
       "\n",
       "                                        model_params   mean_CV_RMSE  \\\n",
       "0  {'copy_X': True, 'fit_intercept': True, 'n_job...  421290.928437   \n",
       "1  {'alpha': 1.0, 'copy_X': True, 'fit_intercept'...  421243.844493   \n",
       "2  {'alpha': 1.0, 'copy_X': True, 'fit_intercept'...  421286.726566   \n",
       "3  {'ccp_alpha': 0.0, 'criterion': 'squared_error...  565763.310788   \n",
       "4  {'bootstrap': True, 'bootstrap_features': Fals...  437113.410057   \n",
       "5  {'bootstrap': True, 'ccp_alpha': 0.0, 'criteri...  422464.256360   \n",
       "6  {'alpha': 0.9, 'ccp_alpha': 0.0, 'criterion': ...  413826.783109   \n",
       "\n",
       "    std_CV_RMSE  training_RMSE      test_RMSE            run_comment  \n",
       "0  38648.948178  421920.456261  370623.866122  Base Model Parameters  \n",
       "1  38651.382512  421925.007683  370620.407195  Base Model Parameters  \n",
       "2  38648.585390  421920.731761  370616.096743  Base Model Parameters  \n",
       "3  23262.481455   19987.231868  534376.427277  Base Model Parameters  \n",
       "4  31388.608740  183658.920531  404772.831184  Base Model Parameters  \n",
       "5  32148.055755  157307.646717  383765.955426  Base Model Parameters  \n",
       "6  34872.625063  376620.459032  384864.541745  Base Model Parameters  "
      ]
     },
     "execution_count": 53,
     "metadata": {},
     "output_type": "execute_result"
    }
   ],
   "source": [
    "# Example global DataFrame after Baseline Test Run\n",
    "\n",
    "combined_results_df.head(7)"
   ]
  },
  {
   "cell_type": "markdown",
   "id": "70e432a3",
   "metadata": {},
   "source": [
    "These visualizations helped us assess model behavior, particularly in identifying signs of overfitting and understanding performances across different ranges of the target variable. For example, some models predicted lower-value targets accurately but struggled with higher-value predictions, especially when the target variable exceeded $2 million.\n",
    "\n",
    "Additionally, run_model() tracked Root Mean Squared Error (RMSE) at three key stages:\n",
    "- Training RMSE\n",
    "- Cross-Validation RMSE using 5-fold, 5-repeat cross-validation\n",
    "- Test Set RMSE (utlilized at the end of all tests)\n",
    "\n",
    "As an a side note, for cases where the target variable was log-transformed, we implemented a parameter within run_model() to handle this scenario. The function applied cross-validation in log space and then inverse-transformed the predictions to calculate RMSE in the original scale. This approach ensured consistency and leveraged KFold to properly simulate repeated cross validation. \n",
    "\n",
    "At the conclusion of each phase — whether baseline testing, feature engineering, or feature selection — we plotted the Training RMSE against the Cross-Validation RMSE for all candidate models. This allowed us to visually compare performance and detect potential overfitting by observing discrepancies between training and validation errors.\n",
    "\n"
   ]
  },
  {
   "cell_type": "markdown",
   "id": "cbe9dbd8",
   "metadata": {},
   "source": [
    "As an example, the plot below displays the training_RMSE and mean_CV_RMSE for each model from the Base Model Parameters run."
   ]
  },
  {
   "cell_type": "markdown",
   "id": "d6b53327",
   "metadata": {},
   "source": [
    "![Test_Figure_1](./Figures/Test_Figure_1.png)"
   ]
  },
  {
   "cell_type": "markdown",
   "id": "fbe63e0c",
   "metadata": {},
   "source": [
    "Finally, after completing feature selection, we identified the top-performing models for hyperparameter tuning based on their performance and generalization capability. The selected models were:\n",
    "\n",
    "- Gradient Boosted Trees with full features and no log transformation\n",
    "- Random Forest with full features and no log transformation\n",
    "- Linear Regression with selected features and no log transformation\n",
    "\n",
    "These models demonstrated the best balance between accuracy and robustness, making them strong candidates for further optimization."
   ]
  },
  {
   "cell_type": "markdown",
   "id": "1c94d034",
   "metadata": {},
   "source": [
    "Starting with each of the top three models, the four 'most influencial' hyperparamters were chosen based on documentation and Boston University resources. **(Need reference)**. For the **gradient boosted Trees** model these were: \n",
    "\n",
    "- **learning_rate** - (impact of each tree on learning  (typicall 0 - 1); lower values indicate slower learning)\n",
    "- **n_estimators** - (Essentially how many trees (in this case boosting stages) are used)\n",
    "- **max_depth** - (Limits how deep each tree can grow)\n",
    "- **max_features** - (How many features are considered at each split)\n",
    "\n",
    "For the **Random Forest** model they were: \n",
    "- **n_estimators** - (Essentially, how many trees are used)\n",
    "- **max_features** - (How many feautures are considered for each split)\n",
    "- **max_depth** - (How deep each tree can grow)\n",
    "- **booststrap** - (Is bootstrapping used (T/F))\n",
    "\n",
    "Finally, the **Linear Regression** model didn’t offer many hyperparameters to tune, but the two we could adjust were:\n",
    "- **fit_intercepts** (Force the model to go through the origin if False (T/F))\n",
    "- **positive** (Force the model to only have positive coefficients if True (T/F))\n",
    "\n",
    "\n",
    "The details of our specific hyperparameter choices are outlined in Part 4.C. In general, we used the full-feature, no-log dataset for training, as our top-performing models consistently achieved the best results on this dataset, and we aimed to maintain standardization across tests.\n",
    "\n",
    "We began by defining broad initial ranges for each hyperparameter to observe their impact on RMSE cross-validation scores. Based on these results, we refined our search by conducting a second parameter sweep to “hone in” on ranges that showed promising behavior. Finally, we used these insights to define a focused range of values for a GridSearchCV to fine-tune the models.\n",
    "\n",
    "Once we finalized the hyperparameter selections for each model, we conducted final tests using three datasets:\n",
    "\t1.\tThe no-log full-feature dataset,\n",
    "\t2.\tThe logged-target dataset, and\n",
    "\t3.\tThe dataset with selected features from feature selection.\n",
    "\n",
    "We compared the performance of these tuned models against all prior runs—from baseline models to those with feature engineering and so on — to identify the overall best-performing model.\n"
   ]
  },
  {
   "cell_type": "markdown",
   "id": "0e52326d",
   "metadata": {},
   "source": [
    "____"
   ]
  },
  {
   "cell_type": "markdown",
   "id": "4305c55a-370f-4083-8cb6-395545ff1013",
   "metadata": {},
   "source": [
    "#### 5. Results and Evaluation (What you found, and how well it worked) [10 pts]\n",
    "\n",
    "**Focus purely on outcomes, with metrics, visuals, and insights. This is where you present evidence to support your conclusions.**\n",
    "\n",
    "- Provide a clear and detailed narrative of your analysis and reasoning using the analytical approach described in (4). \n",
    "- Discuss model performance metrics and results (RMSE, R2, etc.)\n",
    "- **Include relevant visualizations (graphs, charts, tables) with appropriate labels and captions**\n",
    "- Error analysis\n",
    "  - Highlight specific patterns of error, outliers, or questionable features.\n",
    "  - Note anything surprising or worth improving in future iterations.\n"
   ]
  },
  {
   "cell_type": "markdown",
   "id": "7615213f-7689-47fe-ac5a-24a767faaae5",
   "metadata": {},
   "source": []
  },
  {
   "cell_type": "markdown",
   "id": "04890c67",
   "metadata": {},
   "source": [
    "____"
   ]
  },
  {
   "cell_type": "markdown",
   "id": "c97153d2-e099-4c15-99f8-ad0b6a539d4b",
   "metadata": {},
   "source": [
    "#### 6. Conclusion [2 pts]\n",
    "- Clearly state your main findings and how they address your original objectives\n",
    "- Highlight the business or practical implications of your findings \n",
    "- Discuss the limitations and constraints of your analysis clearly and transparently\n",
    "- Suggest potential improvements or future directions"
   ]
  },
  {
   "cell_type": "markdown",
   "id": "c97153d2-e099-4c15-99f8-ad0b6a539d4b",
   "metadata": {},
   "source": [
    "#### 6. Conclusion [2 pts]\n",
    "- Clearly state your main findings and how they address your original objectives\n",
    "- Highlight the business or practical implications of your findings \n",
    "- Discuss the limitations and constraints of your analysis clearly and transparently\n",
    "- Suggest potential improvements or future directions"
   ]
  },
  {
   "cell_type": "markdown",
   "id": "1dc34530",
   "metadata": {},
   "source": [
    "___"
   ]
  },
  {
   "cell_type": "markdown",
   "id": "8dfc0f7d",
   "metadata": {},
   "source": [
    "## **References**  \n",
    "1. Kaggle. (2017). Zillow Prize: Zillow’s Home Value Prediction (Zestimate) [Dataset]. Kaggle. https://www.kaggle.com/competitions/zillow-prize-1/data\n",
    "\n",
    "2. McFarling, L., Zonglin W., & Nelyapenko S. (2024). *Module 3 Milestone 1 [Data analysis notebook]*. GitHub. [https://github.com/LeeMcFarling/Module_3_Milestone_1](https://github.com/LeeMcFarling/Module_3_Milestone_1)\n",
    "\n",
    "3. McFarling, L., Zonglin W., & Nelyapenko S. (2024). *Module 3 Milestone 2 [Data analysis notebook]*. GitHub. [https://github.com/LeeMcFarling/Module_3_Milestone_1](https://github.com/LeeMcFarling/Module_3_Milestone_2)\n",
    "\n",
    "4. McFarling, L., Zonglin W., & Nelyapenko S. (2024). *Module 3 Final_Project [Data analysis notebook]*. GitHub. [https://github.com/LeeMcFarling/Final_Project_Writeup](https://github.com/LeeMcFarling/Final_Project_Writeup)\n",
    "\n"
   ]
  },
  {
   "cell_type": "markdown",
   "id": "899325dd",
   "metadata": {},
   "source": []
  }
 ],
 "metadata": {
  "kernelspec": {
   "display_name": ".venv",
   "language": "python",
   "name": "python3"
  },
  "language_info": {
   "codemirror_mode": {
    "name": "ipython",
    "version": 3
   },
   "file_extension": ".py",
   "mimetype": "text/x-python",
   "name": "python",
   "nbconvert_exporter": "python",
   "pygments_lexer": "ipython3",
   "version": "3.9.13"
  }
 },
 "nbformat": 4,
 "nbformat_minor": 5
}
