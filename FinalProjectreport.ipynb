{
 "cells": [
  {
   "cell_type": "markdown",
   "id": "b5287bfc",
   "metadata": {},
   "source": [
    "# **Zillow TaxValueDollar Prediction**"
   ]
  },
  {
   "cell_type": "markdown",
   "id": "2e4ece2f",
   "metadata": {},
   "source": [
    "## **Introduction**\n",
    "- Summary of the study and data, as well as any relevant substantive context, background, or\n",
    "framing issues.\n",
    "- The “big questions” answered by your data analyses, and summaries of your conclusions about\n",
    "these questions.\n",
    "- Brief outline of remainder of paper.\n",
    "\n",
    "The above is a pretty good order to present this material in as well."
   ]
  },
  {
   "cell_type": "markdown",
   "id": "722b87fb",
   "metadata": {},
   "source": [
    "## **Body**"
   ]
  },
  {
   "cell_type": "markdown",
   "id": "33076be0",
   "metadata": {},
   "source": [
    "The body can be organized in several ways. Here are two that often work well:\n",
    "\n",
    "Traditional. Divide the body up into several sections at the same level as the Introduction, with names like:\n",
    "\n",
    "-  Data\n",
    "- Methods\n",
    "- Analysis\n",
    "- Results\n",
    "\n",
    "This format is very familiar to those who have written psych research papers. It often works well for a data analysis paper as well, though one problem with it is that the Methods section often sounds like a bit of a stretch: In a psych research paper the Methods section describes what you did to get your data. In a data analysis paper, you should describe the analyses that you performed. Without the results as well, this can be pretty sterile sounding, so I often merge\n",
    "these “methods” pieces into the “Analysis” section when I write.\n",
    "\n",
    "Question-oriented. In this format there is a single Body section, usually called “Analysis”, and then there is a subsection for each question raised in the introduction, usually taken in the same order as in the introduction (general to specific, decreasing order of importance, etc.). Within each subsection, statistical method, analyses, and conclusion would be described (for\n",
    "each question). For example:\n",
    "\n",
    "- Analysis\n",
    "    - 2.1 Success Rate\n",
    "        - Methods\n",
    "        - Analysis\n",
    "        - Conclusions\n",
    "    - 2.2 Time to Relapse\n",
    "        - Methods\n",
    "        - Analysis\n",
    "        - Conclusions\n",
    "\n",
    "    - 2.3 Effect of Gender\n",
    "        - Methods\n",
    "        - Analysis\n",
    "        - Conclusions\n",
    "\n",
    "    - 2.4 Hospital Effects\n",
    "        - Methods\n",
    "        - Analysis\n",
    "        - Conclusions\n",
    "        - Etc. . .\n",
    "\n",
    "Other organizational formats are possible too. Whatever the format, it is useful to provide one or two\n",
    "well-chosen tables or graphs per question in the body of the report, for two reasons: First, graphical\n",
    "and tabular displays can convey your points more efficiently than words; and second, your “skimming”\n",
    "audiences will be more likely to have their eye caught by an interesting graph or table than by running\n",
    "text. However, too much graphical/tabular material will break up the flow of the text and become\n",
    "distracting; so extras should be moved to the Appendix."
   ]
  },
  {
   "cell_type": "markdown",
   "id": "334026f2",
   "metadata": {},
   "source": [
    "## **Conclusion(s)/Discussion**. \n",
    "\n",
    "The conclusion should reprise the questions and conclusions of the introduction, perhaps augmented by some additional observations or details gleaned from the analysis\n",
    "section. New questions, future work, etc., can also be raised here."
   ]
  },
  {
   "cell_type": "markdown",
   "id": "f8ce2d3b",
   "metadata": {},
   "source": [
    "\n",
    "\n",
    "## **Appendix/Appendices**\n",
    "\n",
    " One or more appendices are the place to out details and ancillary materials.\n",
    "These might include such items as\n",
    "\n",
    "- Technical descriptions of (unusual) statistical procedures\n",
    "- Detailed tables or computer output\n",
    "- Figures that were not central to the arguments presented in the body of the report\n",
    "- Computer code used to obtain results.\n",
    "\n",
    "In all cases, and especially in the case of computer code, it is a good idea to add some text sentences as comments or annotations, to make it easier for the uninitiated reader to follow what you are doing. It is often difficult to find the right balance between what to put in the appendix and what to put in\n",
    "the body of the paper. Generally you should put just enough in the body to make the point, and refer the reader to specific sections or page numbers in the appendix for additional graphs, tables and other details."
   ]
  },
  {
   "cell_type": "markdown",
   "id": "46f2b039",
   "metadata": {},
   "source": []
  }
 ],
 "metadata": {
  "language_info": {
   "name": "python"
  }
 },
 "nbformat": 4,
 "nbformat_minor": 5
}
